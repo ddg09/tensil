{
 "cells": [
  {
   "cell_type": "markdown",
   "id": "fa3c36c8",
   "metadata": {},
   "source": [
    "# Tensil TCU Demo - ResNet-20 CIFAR"
   ]
  },
  {
   "cell_type": "markdown",
   "id": "988d5c66",
   "metadata": {},
   "source": [
    "### Import the TCU driver"
   ]
  },
  {
   "cell_type": "code",
   "execution_count": 1,
   "id": "160b4dda",
   "metadata": {},
   "outputs": [
    {
     "data": {
      "application/javascript": [
       "\n",
       "try {\n",
       "require(['notebook/js/codecell'], function(codecell) {\n",
       "  codecell.CodeCell.options_default.highlight_modes[\n",
       "      'magic_text/x-csrc'] = {'reg':[/^%%microblaze/]};\n",
       "  Jupyter.notebook.events.one('kernel_ready.Kernel', function(){\n",
       "      Jupyter.notebook.get_cells().map(function(cell){\n",
       "          if (cell.cell_type == 'code'){ cell.auto_highlight(); } }) ;\n",
       "  });\n",
       "});\n",
       "} catch (e) {};\n"
      ]
     },
     "metadata": {},
     "output_type": "display_data"
    },
    {
     "data": {
      "application/javascript": [
       "\n",
       "try {\n",
       "require(['notebook/js/codecell'], function(codecell) {\n",
       "  codecell.CodeCell.options_default.highlight_modes[\n",
       "      'magic_text/x-csrc'] = {'reg':[/^%%pybind11/]};\n",
       "  Jupyter.notebook.events.one('kernel_ready.Kernel', function(){\n",
       "      Jupyter.notebook.get_cells().map(function(cell){\n",
       "          if (cell.cell_type == 'code'){ cell.auto_highlight(); } }) ;\n",
       "  });\n",
       "});\n",
       "} catch (e) {};\n"
      ]
     },
     "metadata": {},
     "output_type": "display_data"
    }
   ],
   "source": [
    "import sys\n",
    "sys.path.append('/home/xilinx')\n",
    "\n",
    "# Needed to run inference on TCU\n",
    "import time\n",
    "import numpy as np\n",
    "import pynq\n",
    "from pynq import Overlay\n",
    "from tcu_pynq.driver import Driver\n",
    "from tcu_pynq.architecture import zcu104\n",
    "\n",
    "# Needed for unpacking and displaying image data\n",
    "%matplotlib inline\n",
    "import matplotlib.pyplot as plt\n",
    "import pickle"
   ]
  },
  {
   "cell_type": "markdown",
   "id": "a17cde1a",
   "metadata": {},
   "source": [
    "### Configure the fabric and driver"
   ]
  },
  {
   "cell_type": "code",
   "execution_count": 2,
   "id": "20ee8f6e",
   "metadata": {},
   "outputs": [],
   "source": [
    "overlay = Overlay('/home/xilinx/tensil_zcu104.bit')\n",
    "tcu = Driver(zcu104, overlay.axi_dma_0)"
   ]
  },
  {
   "cell_type": "markdown",
   "id": "3578c10c",
   "metadata": {},
   "source": [
    "### Read CIFAR-10 images"
   ]
  },
  {
   "cell_type": "code",
   "execution_count": 3,
   "id": "16f24f1f",
   "metadata": {},
   "outputs": [],
   "source": [
    "def unpickle(file):\n",
    "    with open(file, 'rb') as fo:\n",
    "        d = pickle.load(fo, encoding='bytes')\n",
    "    return d\n",
    "\n",
    "cifar = unpickle('/home/xilinx/cifar-10-batches-py/test_batch')\n",
    "data = cifar[b'data']\n",
    "labels = cifar[b'labels']\n",
    "\n",
    "data = data[10:20]\n",
    "labels = labels[10:20]\n",
    "\n",
    "data_norm = data.astype('float32') / 255\n",
    "data_mean = np.mean(data_norm, axis=0)\n",
    "data_norm -= data_mean\n",
    "\n",
    "cifar_meta = unpickle('/home/xilinx/cifar-10-batches-py/batches.meta')\n",
    "label_names = [b.decode() for b in cifar_meta[b'label_names']]\n",
    "\n",
    "def show_img(data, n):\n",
    "    plt.imshow(np.transpose(data[n].reshape((3, 32, 32)), axes=[1, 2, 0]))\n",
    "\n",
    "def get_img(data, n):\n",
    "    img = np.transpose(data_norm[n].reshape((3, 32, 32)), axes=[1, 2, 0])\n",
    "    img = np.pad(img, [(0, 0), (0, 0), (0, tcu.arch.array_size - 3)], 'constant', constant_values=0)\n",
    "    return img.reshape((-1, tcu.arch.array_size))\n",
    "\n",
    "def get_label(labels, label_names, n):\n",
    "    label_idx = labels[n]\n",
    "    name = label_names[label_idx]\n",
    "    return (label_idx, name)"
   ]
  },
  {
   "cell_type": "code",
   "execution_count": 4,
   "id": "584eb330",
   "metadata": {},
   "outputs": [
    {
     "data": {
      "image/png": "[encoded data removed]",
      "text/plain": [
       "<Figure size 432x288 with 1 Axes>"
      ]
     },
     "metadata": {
      "needs_background": "light"
     },
     "output_type": "display_data"
    }
   ],
   "source": [
    "# CIFAR-10 input\n",
    "n = 9\n",
    "img = get_img(data, n)\n",
    "label_idx, label = get_label(labels, label_names, n)\n",
    "show_img(data, n)"
   ]
  },
  {
   "cell_type": "markdown",
   "id": "44c6be2d",
   "metadata": {},
   "source": [
    "## Demo: ResNet-20 inference"
   ]
  },
  {
   "cell_type": "markdown",
   "id": "f6e9062a",
   "metadata": {},
   "source": [
    "### Load the model"
   ]
  },
  {
   "cell_type": "code",
   "execution_count": 6,
   "id": "5f3f8f8b",
   "metadata": {},
   "outputs": [],
   "source": [
    "tcu.load_model('/home/xilinx/resnet20v2_cifar_onnx_zcu104.tmodel')"
   ]
  },
  {
   "cell_type": "markdown",
   "id": "91d8a258",
   "metadata": {},
   "source": [
    "### Run inference"
   ]
  },
  {
   "cell_type": "code",
   "execution_count": 9,
   "id": "aca9dfcb",
   "metadata": {},
   "outputs": [
    {
     "name": "stdout",
     "output_type": "stream",
     "text": [
      "Ran inference in 0.01865s\n",
      "\n",
      "Output activations:\n",
      "[-13.69140625 -12.359375    -7.90625     -6.30859375  -8.296875\n",
      " -12.2421875   15.17578125 -15.0390625  -10.5703125   -9.12109375]\n",
      "\n",
      "Result: frog (idx = 6)\n",
      "Actual: frog (idx = 6)\n"
     ]
    }
   ],
   "source": [
    "inputs = {'x:0': img}\n",
    "\n",
    "start = time.time()\n",
    "outputs = tcu.run(inputs)\n",
    "end = time.time()\n",
    "print(\"Ran inference in {:.4}s\".format(end - start))\n",
    "print()\n",
    "\n",
    "classes = outputs['Identity:0'][:10]\n",
    "result_idx = np.argmax(classes)\n",
    "result = label_names[result_idx]\n",
    "\n",
    "print(\"Output activations:\")\n",
    "print(classes)\n",
    "print()\n",
    "print(\"Result: {} (idx = {})\".format(result, result_idx))\n",
    "print(\"Actual: {} (idx = {})\".format(label, label_idx))"
   ]
  },
  {
   "cell_type": "code",
   "execution_count": null,
   "id": "898490a4",
   "metadata": {},
   "outputs": [],
   "source": []
  }
 ],
 "metadata": {
  "kernelspec": {
   "display_name": "Python 3",
   "language": "python",
   "name": "python3"
  },
  "language_info": {
   "codemirror_mode": {
    "name": "ipython",
    "version": 3
   },
   "file_extension": ".py",
   "mimetype": "text/x-python",
   "name": "python",
   "nbconvert_exporter": "python",
   "pygments_lexer": "ipython3",
   "version": "3.8.2"
  }
 },
 "nbformat": 4,
 "nbformat_minor": 5
}
